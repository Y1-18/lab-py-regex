{
  "cells": [
    {
      "cell_type": "markdown",
      "metadata": {
        "id": "XXsr4T1TyVMf"
      },
      "source": [
        "# LAB | Regular Expressions (Regex) in Python"
      ]
    },
    {
      "cell_type": "markdown",
      "metadata": {
        "id": "6ZDrybZIyVMk"
      },
      "source": [
        "## Overview\n",
        "This exercise notebook will help you practice using regular expressions in Python. Regular expressions are powerful tools for matching patterns in strings, which can be useful for validation, searching, and data manipulation.\n",
        "\n",
        "## Instructions\n",
        "- Complete each exercise by writing the appropriate regex pattern and Python code in the provided space.\n",
        "- Test your code to ensure it works as expected.\n",
        "<!-- - Use the hints provided if you get stuck. -->"
      ]
    },
    {
      "cell_type": "markdown",
      "metadata": {
        "id": "6GbPJTdAyVMm"
      },
      "source": [
        "### Exercise 1: Match Email Addresses\n",
        "Write a regex pattern to match valid email addresses. An email address should contain an '@' symbol and a domain."
      ]
    },
    {
      "cell_type": "code",
      "execution_count": 1,
      "metadata": {
        "colab": {
          "base_uri": "https://localhost:8080/"
        },
        "id": "BgoONQMpyVMo",
        "outputId": "c6050be3-5fed-406b-a2ac-c605a0d02072"
      },
      "outputs": [
        {
          "output_type": "stream",
          "name": "stdout",
          "text": [
            "Valid email\n"
          ]
        }
      ],
      "source": [
        "import re\n",
        "\n",
        "# Example input\n",
        "email = \"example@example.com\"\n",
        "\n",
        "# Your regex pattern here\n",
        "pattern = r\"[a-zA-Z]+@\"\n",
        "\n",
        "# Test the regex\n",
        "if re.match(pattern, email):\n",
        "    print(\"Valid email\")\n",
        "else:\n",
        "    print(\"Invalid email\")"
      ]
    },
    {
      "cell_type": "markdown",
      "metadata": {
        "id": "3spYKuzZyVMr"
      },
      "source": [
        "### Exercise 2: Validate Phone Numbers\n",
        "Create a regex pattern to validate phone numbers in the format (123) 456-7890 or 123-456-7890."
      ]
    },
    {
      "cell_type": "code",
      "execution_count": 5,
      "metadata": {
        "colab": {
          "base_uri": "https://localhost:8080/"
        },
        "id": "JdQJo3YryVMs",
        "outputId": "1c475039-d4fd-4e15-eb02-0835a270a5dc"
      },
      "outputs": [
        {
          "output_type": "stream",
          "name": "stdout",
          "text": [
            "Valid phone number\n"
          ]
        }
      ],
      "source": [
        "import re\n",
        "\n",
        "# Example input\n",
        "phone_number = \"(123) 456-7890\"\n",
        "\n",
        "# Your regex pattern here\n",
        "pattern = r\"\\(\\d{3}\\)\\s\\d{3}-\\d{4}\"\n",
        "\n",
        "# Test the regex\n",
        "if re.match(pattern, phone_number):\n",
        "    print(\"Valid phone number\")\n",
        "else:\n",
        "    print(\"Invalid phone number\")"
      ]
    },
    {
      "cell_type": "markdown",
      "metadata": {
        "id": "rtkMHHYhyVMu"
      },
      "source": [
        "### Exercise 3: Extract Dates\n",
        "Write a regex pattern to extract dates in the format YYYY-MM-DD from a string."
      ]
    },
    {
      "cell_type": "code",
      "execution_count": 7,
      "metadata": {
        "colab": {
          "base_uri": "https://localhost:8080/"
        },
        "id": "2MgYSenyyVMv",
        "outputId": "51c1ae22-b3d9-4284-92bc-9ab2196d6441"
      },
      "outputs": [
        {
          "output_type": "stream",
          "name": "stdout",
          "text": [
            "['2024-12-25']\n"
          ]
        }
      ],
      "source": [
        "import re\n",
        "\n",
        "# Example input\n",
        "text = \"The event is scheduled for 2024-12-25.\"\n",
        "\n",
        "# Your regex pattern here\n",
        "pattern = r\"\\d{4}-\\d{2}-\\d{2}\"\n",
        "\n",
        "# Find all matches\n",
        "dates = re.findall(pattern, text)\n",
        "print(dates)"
      ]
    },
    {
      "cell_type": "markdown",
      "metadata": {
        "id": "UtThRrf2yVMx"
      },
      "source": [
        "### Exercise 4: Match URLs\n",
        "Create a regex pattern to match URLs that start with http:// or https://."
      ]
    },
    {
      "cell_type": "code",
      "execution_count": 8,
      "metadata": {
        "colab": {
          "base_uri": "https://localhost:8080/"
        },
        "id": "dhpBYGUTyVMy",
        "outputId": "be849403-6b19-4d50-bdd8-795e262d1a8c"
      },
      "outputs": [
        {
          "output_type": "stream",
          "name": "stdout",
          "text": [
            "Valid URL\n"
          ]
        }
      ],
      "source": [
        "import re\n",
        "\n",
        "# Example input\n",
        "url = \"https://www.example.com\"\n",
        "\n",
        "# Your regex pattern here\n",
        "pattern = r\"https://\"\n",
        "\n",
        "# Test the regex\n",
        "if re.match(pattern, url):\n",
        "    print(\"Valid URL\")\n",
        "else:\n",
        "    print(\"Invalid URL\")"
      ]
    },
    {
      "cell_type": "markdown",
      "metadata": {
        "id": "R1jeliuEyVMz"
      },
      "source": [
        "### Exercise 5: Find Words Starting with a Specific Letter\n",
        "Write a regex pattern to find all words starting with the letter 'a' in a given string."
      ]
    },
    {
      "cell_type": "code",
      "execution_count": 10,
      "metadata": {
        "colab": {
          "base_uri": "https://localhost:8080/"
        },
        "id": "vgOHaaOoyVM0",
        "outputId": "67d9d4d4-4d3d-4bb3-f594-f7abdf72cc65"
      },
      "outputs": [
        {
          "output_type": "stream",
          "name": "stdout",
          "text": [
            "['A', 'a']\n"
          ]
        }
      ],
      "source": [
        "import re\n",
        "\n",
        "# Example input\n",
        "text = \"A quick brown fox jumps over a lazy dog.\"\n",
        "\n",
        "# Your regex pattern here\n",
        "pattern = r\"\\b[aA]\\w*\\b\"\n",
        "\n",
        "# Find all matches\n",
        "words = re.findall(pattern, text)\n",
        "print(words)"
      ]
    },
    {
      "cell_type": "markdown",
      "metadata": {
        "id": "0iCoU4DryVM1"
      },
      "source": [
        "### Exercise 6: Match Hexadecimal Colors\n",
        "Create a regex pattern to match hexadecimal color codes (e.g., #FFFFFF)."
      ]
    },
    {
      "cell_type": "code",
      "execution_count": 12,
      "metadata": {
        "colab": {
          "base_uri": "https://localhost:8080/"
        },
        "id": "UqY8GB4cyVM1",
        "outputId": "b1131c23-6b8a-45e3-8c40-93fd28ebc7af"
      },
      "outputs": [
        {
          "output_type": "stream",
          "name": "stdout",
          "text": [
            "Valid hex color code\n"
          ]
        }
      ],
      "source": [
        "import re\n",
        "\n",
        "# Example input\n",
        "color_code = \"#FFFFFF\"\n",
        "\n",
        "# Your regex pattern here\n",
        "pattern = r\"^#([A-Fa-f0-9]{6}|[A-Fa-f0-9]{3})$\"\n",
        "\n",
        "# Test the regex\n",
        "if re.match(pattern, color_code):\n",
        "    print(\"Valid hex color code\")\n",
        "else:\n",
        "    print(\"Invalid hex color code\")"
      ]
    },
    {
      "cell_type": "markdown",
      "metadata": {
        "id": "E9JhQXRDyVM2"
      },
      "source": [
        "### Exercise 7: Validate Passwords\n",
        "Write a regex pattern to validate passwords that must be at least 8 characters long and contain at least one uppercase letter, one lowercase letter, one digit, and one special character."
      ]
    },
    {
      "cell_type": "code",
      "execution_count": 13,
      "metadata": {
        "colab": {
          "base_uri": "https://localhost:8080/"
        },
        "id": "dvacroPmyVM2",
        "outputId": "64034487-499f-490f-cff2-c464b30096e1"
      },
      "outputs": [
        {
          "output_type": "stream",
          "name": "stdout",
          "text": [
            "Valid password\n"
          ]
        }
      ],
      "source": [
        "import re\n",
        "\n",
        "# Example input\n",
        "password = \"Password123!\"\n",
        "\n",
        "# Your regex pattern here\n",
        "pattern = r\"^(?=.*[a-z])(?=.*[A-Z])(?=.*\\d)(?=.*[@$!%*?&])[A-Za-z\\d@$!%*?&]{8,}$\"\n",
        "\n",
        "# Test the regex\n",
        "if re.match(pattern, password):\n",
        "    print(\"Valid password\")\n",
        "else:\n",
        "    print(\"Invalid password\")"
      ]
    },
    {
      "cell_type": "markdown",
      "metadata": {
        "id": "uT0wn9KeyVM3"
      },
      "source": [
        "### Exercise 8: Remove Extra Spaces\n",
        "Create a regex pattern that removes extra spaces from a string while keeping single spaces between words."
      ]
    },
    {
      "cell_type": "code",
      "execution_count": 19,
      "metadata": {
        "colab": {
          "base_uri": "https://localhost:8080/"
        },
        "id": "2Ihahs1HyVM4",
        "outputId": "285b824d-4ec9-4f25-cc99-d6052ae37959"
      },
      "outputs": [
        {
          "output_type": "stream",
          "name": "stdout",
          "text": [
            "This is an example.\n"
          ]
        }
      ],
      "source": [
        "import re\n",
        "\n",
        "# Example input\n",
        "text = \"This   is   an   example.\"\n",
        "\n",
        "# Your regex pattern here\n",
        "pattern = r\"\\s+\"\n",
        "\n",
        "# Replace extra spaces\n",
        "cleaned_text = re.sub(pattern, \" \", text)\n",
        "print(cleaned_text)"
      ]
    },
    {
      "cell_type": "markdown",
      "metadata": {
        "id": "LhXujuiyyVM5"
      },
      "source": [
        "### Exercise 9: Match IP Addresses\n",
        "Write a regex pattern to match valid IPv4 addresses."
      ]
    },
    {
      "cell_type": "code",
      "execution_count": 20,
      "metadata": {
        "colab": {
          "base_uri": "https://localhost:8080/"
        },
        "id": "z5svHU-ByVM5",
        "outputId": "8e1e9280-6dc1-4573-dcd1-efc8ae6d7c55"
      },
      "outputs": [
        {
          "output_type": "stream",
          "name": "stdout",
          "text": [
            "Valid IP address\n"
          ]
        }
      ],
      "source": [
        "import re\n",
        "\n",
        "# Example input\n",
        "ip_address = \"192.168.1.1\"\n",
        "\n",
        "# Your regex pattern here\n",
        "pattern = r\"^((25[0-5]|2[0-4][0-9]|1[0-9]{2}|[1-9]?[0-9])\\.){3}(25[0-5]|2[0-4][0-9]|1[0-9]{2}|[1-9]?[0-9])$\"\n",
        "\n",
        "\n",
        "# Test the regex\n",
        "if re.match(pattern, ip_address):\n",
        "    print(\"Valid IP address\")\n",
        "else:\n",
        "    print(\"Invalid IP address\")"
      ]
    },
    {
      "cell_type": "markdown",
      "metadata": {
        "id": "HXPwyqM-yVM6"
      },
      "source": [
        "### Exercise 10: Extract Hashtags\n",
        "Create a regex pattern to extract hashtags from a string."
      ]
    },
    {
      "cell_type": "code",
      "execution_count": 21,
      "metadata": {
        "colab": {
          "base_uri": "https://localhost:8080/"
        },
        "id": "KL9N04biyVM6",
        "outputId": "75a97c8e-cb0b-45f9-fcaf-28653f8e74b2"
      },
      "outputs": [
        {
          "output_type": "stream",
          "name": "stdout",
          "text": [
            "['#Python', '#Regex', '#Coding']\n"
          ]
        }
      ],
      "source": [
        "import re\n",
        "\n",
        "# Example input\n",
        "text = \"Here are some hashtags: #Python #Regex #Coding.\"\n",
        "\n",
        "# Your regex pattern here\n",
        "pattern = r\"#\\w+\"\n",
        "\n",
        "# Find all matches\n",
        "hashtags = re.findall(pattern, text)\n",
        "print(hashtags)"
      ]
    },
    {
      "cell_type": "markdown",
      "metadata": {
        "id": "fCvM1QBkyVM7"
      },
      "source": [
        "## Bonus Exercises\n"
      ]
    },
    {
      "cell_type": "markdown",
      "metadata": {
        "id": "qFof12gYyVM8"
      },
      "source": [
        "\n",
        "### Bonus Exercise 1: Match All Digits\n",
        "Write a regex pattern to match all digits in a given string."
      ]
    },
    {
      "cell_type": "code",
      "execution_count": 22,
      "metadata": {
        "colab": {
          "base_uri": "https://localhost:8080/"
        },
        "id": "0hRZCqvOyVM8",
        "outputId": "677b0094-d580-496f-ada0-4e8a9ff64105"
      },
      "outputs": [
        {
          "output_type": "stream",
          "name": "stdout",
          "text": [
            "['2', '3']\n"
          ]
        }
      ],
      "source": [
        "import re\n",
        "\n",
        "# Example input\n",
        "text = \"There are 2 apples and 3 oranges.\"\n",
        "\n",
        "# Your regex pattern here\n",
        "pattern = r\"\\d+\"\n",
        "\n",
        "# Find all matches\n",
        "digits = re.findall(pattern, text)\n",
        "print(digits)"
      ]
    },
    {
      "cell_type": "markdown",
      "metadata": {
        "id": "kymaF-SgyVM9"
      },
      "source": [
        "### Bonus Exercise 2: Validate Credit Card Numbers  \n",
        "Create a regex pattern to validate credit card numbers (16 digits)."
      ]
    },
    {
      "cell_type": "code",
      "execution_count": 23,
      "metadata": {
        "colab": {
          "base_uri": "https://localhost:8080/"
        },
        "id": "UIk8wMOKyVM9",
        "outputId": "8f0713d9-08e6-4381-8258-b467ef425a73"
      },
      "outputs": [
        {
          "output_type": "stream",
          "name": "stdout",
          "text": [
            "Valid credit card number\n"
          ]
        }
      ],
      "source": [
        "import re\n",
        "\n",
        "# Example input\n",
        "credit_card_number = \"1234-5678-9876-5432\"\n",
        "\n",
        "# Your regex pattern here\n",
        "pattern = r\"\\d{4}-\\d{4}-\\d{4}-\\d{4}\"\n",
        "\n",
        "# Test the regex\n",
        "if re.match(pattern, credit_card_number):\n",
        "    print(\"Valid credit card number\")\n",
        "else:\n",
        "    print(\"Invalid credit card number\")"
      ]
    },
    {
      "cell_type": "markdown",
      "metadata": {
        "id": "voMQrcAsyVM-"
      },
      "source": [
        "### Bonus Exercise 3: Match Non-Alphanumeric Characters  \n",
        "Write a regex pattern to match non-alphanumeric characters in a string."
      ]
    },
    {
      "cell_type": "code",
      "execution_count": 25,
      "metadata": {
        "colab": {
          "base_uri": "https://localhost:8080/"
        },
        "id": "tqppUexgyVM-",
        "outputId": "dbfccf3d-4d53-4c42-e65a-7c85e666539d"
      },
      "outputs": [
        {
          "output_type": "stream",
          "name": "stdout",
          "text": [
            "['!', ' ', ' ', ' ', '?', ' ', '@', '.']\n"
          ]
        }
      ],
      "source": [
        "import re\n",
        "\n",
        "# Example input\n",
        "text = \"Hello! How are you? @Python3.\"\n",
        "\n",
        "# Your regex pattern here\n",
        "pattern = r\"[^a-zA-Z0-9]\"\n",
        "\n",
        "# Find all matches\n",
        "non_alphanumeric_chars = re.findall(pattern, text)\n",
        "print(non_alphanumeric_chars)"
      ]
    },
    {
      "cell_type": "markdown",
      "metadata": {
        "id": "bjUyl0qRyVM_"
      },
      "source": [
        "### Bonus Exercise 4: Validate Date Format  \n",
        "Create a regex pattern to validate dates in the format DD/MM/YYYY."
      ]
    },
    {
      "cell_type": "code",
      "execution_count": 26,
      "metadata": {
        "colab": {
          "base_uri": "https://localhost:8080/"
        },
        "id": "N97adu_gyVM_",
        "outputId": "f7aaded1-bc75-4685-988d-763e087c5c90"
      },
      "outputs": [
        {
          "output_type": "stream",
          "name": "stdout",
          "text": [
            "Valid date format\n"
          ]
        }
      ],
      "source": [
        "import re\n",
        "\n",
        "# Example input\n",
        "date_string = \"25/12/2024\"\n",
        "\n",
        "# Your regex pattern here\n",
        "pattern = r\"\\d{2}/\\d{2}/\\d{4}\"\n",
        "\n",
        "# Test the regex\n",
        "if re.match(pattern, date_string):\n",
        "    print(\"Valid date format\")\n",
        "else:\n",
        "    print(\"Invalid date format\")"
      ]
    },
    {
      "cell_type": "markdown",
      "metadata": {
        "id": "3jaQ02i5yVNA"
      },
      "source": [
        "### Bonus Exercise 5: Extract Email Domains  \n",
        "Write a regex pattern to extract domains from email addresses."
      ]
    },
    {
      "cell_type": "code",
      "execution_count": 28,
      "metadata": {
        "colab": {
          "base_uri": "https://localhost:8080/"
        },
        "id": "Go6pp2JFyVNA",
        "outputId": "f0b4ed13-f192-409f-90ad-35aba0dd95bd"
      },
      "outputs": [
        {
          "output_type": "stream",
          "name": "stdout",
          "text": [
            "<re.Match object; span=(4, 16), match='@example.com'>\n",
            "<re.Match object; span=(5, 16), match='@domain.org'>\n"
          ]
        }
      ],
      "source": [
        "import re\n",
        "\n",
        "# Example input\n",
        "email_list = [\"user@example.com\", \"admin@domain.org\"]\n",
        "\n",
        "# Your regex pattern here\n",
        "pattern = r\"@([\\w.-]+)\"\n",
        "\n",
        "for email in email_list:\n",
        "    domain = re.search(pattern, email)\n",
        "    if domain:\n",
        "        print(domain)  # Print extracted domain part."
      ]
    },
    {
      "cell_type": "markdown",
      "metadata": {
        "id": "0OttiYoEyVNB"
      },
      "source": [
        "### Exercise Completion  \n",
        "Once you have completed all exercises:\n",
        "- Review your solutions.\n",
        "- Ensure your regular expressions and Python code are well-documented with comments explaining your logic.\n",
        "- Save your notebook for submission or further review.\n",
        "\n",
        "Happy coding! Enjoy practicing Regular Expressions in Python!"
      ]
    }
  ],
  "metadata": {
    "kernelspec": {
      "display_name": ".venv",
      "language": "python",
      "name": "python3"
    },
    "language_info": {
      "codemirror_mode": {
        "name": "ipython",
        "version": 3
      },
      "file_extension": ".py",
      "mimetype": "text/x-python",
      "name": "python",
      "nbconvert_exporter": "python",
      "pygments_lexer": "ipython3",
      "version": "3.8.0"
    },
    "colab": {
      "provenance": []
    }
  },
  "nbformat": 4,
  "nbformat_minor": 0
}